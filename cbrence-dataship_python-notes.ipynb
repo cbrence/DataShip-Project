{
 "cells": [
  {
   "cell_type": "markdown",
   "metadata": {},
   "source": [
    "# Mistakes and Tricks for Python\n",
    "\n",
    "## Colin's Mistakes\n",
    "\n",
    "\n",
    "\n",
    "## Python Tricks\n",
    "\n",
    "\n",
    "## Regular expressions (Regex) in python\n",
    "\n",
    "\n",
    "## Coding question Tips\n",
    "\n",
    "\n",
    "## Todo List\n"
   ]
  },
  {
   "cell_type": "markdown",
   "metadata": {},
   "source": [
    "## Coding Challenges and Questions"
   ]
  },
  {
   "cell_type": "markdown",
   "metadata": {},
   "source": [
    "### SQL Questions"
   ]
  },
  {
   "cell_type": "code",
   "execution_count": null,
   "metadata": {},
   "outputs": [],
   "source": [
    "'''\n",
    "Assume you're given two tables containing data about Facebook Pages and their respective likes (as in \"Like a Facebook Page\").\n",
    "\n",
    "Write a query to return the IDs of the Facebook pages that have zero likes. The output should be sorted in ascending order based on the page IDs.\n",
    "'''\n",
    "\n",
    "SELECT page_id\n",
    "FROM pages\n",
    "EXCEPT\n",
    "SELECT page_id\n",
    "FROM page_likes"
   ]
  },
  {
   "cell_type": "code",
   "execution_count": null,
   "metadata": {},
   "outputs": [],
   "source": [
    "'''\n",
    "Assume you're given a table on Walmart user transactions. Based on their most recent transaction date, write a query that retrieve the users along with the number of products they bought.\n",
    "\n",
    "Output the user's most recent transaction date, user ID, and the number of products, sorted in chronological order by the transaction date.\n",
    "\n",
    "'''\n",
    "\n",
    "WITH latest_transactions AS (\n",
    "  SELECT \n",
    "    transaction_date, \n",
    "    user_id, \n",
    "    product_id, \n",
    "    RANK() OVER (\n",
    "      PARTITION BY user_id ORDER BY transaction_date DESC) AS transaction_rank \n",
    "  FROM user_transactions) \n",
    "  \n",
    "SELECT \n",
    "  transaction_date, \n",
    "  user_id,\n",
    "  COUNT(product_id) AS purchase_count\n",
    "FROM latest_transactions\n",
    "WHERE transaction_rank = 1 \n",
    "GROUP BY transaction_date, user_id\n",
    "ORDER BY transaction_date"
   ]
  },
  {
   "cell_type": "code",
   "execution_count": null,
   "metadata": {},
   "outputs": [],
   "source": []
  },
  {
   "cell_type": "markdown",
   "metadata": {},
   "source": [
    "### Python Questions"
   ]
  },
  {
   "cell_type": "code",
   "execution_count": null,
   "metadata": {},
   "outputs": [],
   "source": [
    "'''\n",
    "Given two n x n binary matrices mat and target, return true if it is possible to make mat equal to target by rotating mat in 90-degree increments, or false otherwise.\n",
    "'''\n",
    "\n",
    "def find_rotation(mat, target):\n",
    "    \n",
    "    def rotate(matrix):\n",
    "        # Step 1: Transpose the matrix (swap rows with columns)\n",
    "        for i in range(len(matrix)):\n",
    "            for j in range(i, len(matrix)):\n",
    "                matrix[i][j], matrix[j][i] = matrix[j][i], matrix[i][j]\n",
    "\n",
    "        # Step 2: Reverse each row\n",
    "        for i in range(len(matrix)):\n",
    "            matrix[i] = matrix[i][::-1]\n",
    "        \n",
    "        return matrix\n",
    "\n",
    "    to_rotate = mat\n",
    "    for _ in range(4):\n",
    "        rotated = rotate(to_rotate)\n",
    "        if rotated == target:\n",
    "            return True\n",
    "        to__rotate = rotated\n",
    "    \n",
    "    return False"
   ]
  },
  {
   "cell_type": "code",
   "execution_count": null,
   "metadata": {},
   "outputs": [],
   "source": [
    "'''\n",
    "Write a function fizz_buzz_sum to find the sum of all multiples of 3 or 5 below a target value.\n",
    "\n",
    "For example, if the target value was 10, the multiples of 3 or 5 below 10 are 3, 5, 6, and 9.\n",
    "\n",
    "Because 3+5+6+9=233+5+6+9=23, our function would return 23.\n",
    "'''\n",
    "def fizz_buzz_sum(target):\n",
    "  sum = 0\n",
    "  for i in range(target):\n",
    "    if (i % 3 == 0) or (i % 5 == 0):\n",
    "      sum += i\n",
    "  return sum"
   ]
  },
  {
   "cell_type": "code",
   "execution_count": null,
   "metadata": {},
   "outputs": [],
   "source": [
    "'''\n",
    "Given an integer n, generate all simplified fractions between 0 and 1 (exclusive) where the denominator is less than or equal to n. A fraction is simplified if the numerator and denominator have no common divisors other than 1.\n",
    "\n",
    "Return a sorted list of fractions, where each fraction is represented as [numerator, denominator].\n",
    "\n",
    "For example:\n",
    "\n",
    "    If n=3n=3, return [[1, 2], [1, 3], [2, 3]]\n",
    "    If n=4n=4, return [[1, 2], [1, 3], [1, 4], [2, 3], [3, 4]]\n",
    "    If n=5n=5, return [[1, 2], [1, 3], [1, 4], [1, 5], [2, 3], [2, 5], [3, 4], [3, 5], [4, 5]]\n",
    "'''\n",
    "import math\n",
    "\n",
    "def generate_fractions(n):\n",
    "    result = []  \n",
    "\t # Numerators from 1 up to n\n",
    "    for numerator in range(1, n): \n",
    "    \t # Denominators > numerator\n",
    "        for denominator in range(numerator + 1, n + 1): \n",
    "            '''\n",
    "            Only add if the fraction is already in \n",
    "            simplest form (GCD is 1)\n",
    "            '''\n",
    "            if math.gcd(numerator, denominator) == 1:\n",
    "            \t# Add to result\n",
    "                result.append([numerator, denominator])  \n",
    "\n",
    "    return result\n"
   ]
  }
 ],
 "metadata": {
  "kernelspec": {
   "display_name": "base",
   "language": "python",
   "name": "python3"
  },
  "language_info": {
   "codemirror_mode": {
    "name": "ipython",
    "version": 3
   },
   "file_extension": ".py",
   "mimetype": "text/x-python",
   "name": "python",
   "nbconvert_exporter": "python",
   "pygments_lexer": "ipython3",
   "version": "3.10.9"
  }
 },
 "nbformat": 4,
 "nbformat_minor": 2
}
