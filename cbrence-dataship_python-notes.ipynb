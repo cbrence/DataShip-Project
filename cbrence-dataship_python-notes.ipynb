{
 "cells": [
  {
   "cell_type": "markdown",
   "metadata": {},
   "source": [
    "# Mistakes and Tricks for Python\n",
    "\n",
    "## Colin's Mistakes\n",
    "\n",
    "\n",
    "\n",
    "## Python Tricks\n",
    "\n",
    "\n",
    "## Regular expressions (Regex) in python\n",
    "\n",
    "\n",
    "## Coding question Tips\n",
    "\n",
    "\n",
    "## Todo List\n"
   ]
  }
 ],
 "metadata": {
  "language_info": {
   "name": "python"
  }
 },
 "nbformat": 4,
 "nbformat_minor": 2
}
