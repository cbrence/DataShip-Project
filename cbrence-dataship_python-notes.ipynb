{
 "cells": [
  {
   "cell_type": "markdown",
   "metadata": {},
   "source": [
    "# Mistakes and Tricks for Python\n",
    "\n",
    "## Colin's Mistakes\n",
    "\n",
    "    #### Forgetting to place () at the end of methods\n",
    "\n",
    "    ### Forgetting to enclose pandas columns in single quotes\n",
    "\n",
    "\n",
    "\n",
    "## Python Tricks\n",
    "\n",
    "\n",
    "## Regular expressions (Regex) in python\n",
    "\n",
    "\n",
    "## Coding question Tips\n",
    "\n",
    "\n",
    "## Todo List\n"
   ]
  },
  {
   "cell_type": "markdown",
   "metadata": {},
   "source": [
    "## Coding Challenges and Questions"
   ]
  },
  {
   "cell_type": "markdown",
   "metadata": {},
   "source": [
    "### SQL Questions"
   ]
  },
  {
   "cell_type": "code",
   "execution_count": 2,
   "metadata": {},
   "outputs": [
    {
     "ename": "SyntaxError",
     "evalue": "invalid syntax (1466910681.py, line 7)",
     "output_type": "error",
     "traceback": [
      "\u001b[1;36m  Cell \u001b[1;32mIn[2], line 7\u001b[1;36m\u001b[0m\n\u001b[1;33m    SELECT page_id\u001b[0m\n\u001b[1;37m           ^\u001b[0m\n\u001b[1;31mSyntaxError\u001b[0m\u001b[1;31m:\u001b[0m invalid syntax\n"
     ]
    }
   ],
   "source": [
    "'''\n",
    "Assume you're given two tables containing data about Facebook Pages and their respective likes (as in \"Like a Facebook Page\").\n",
    "\n",
    "Write a query to return the IDs of the Facebook pages that have zero likes. The output should be sorted in ascending order based on the page IDs.\n",
    "'''\n",
    "\n",
    "SELECT page_id\n",
    "FROM pages\n",
    "EXCEPT\n",
    "SELECT page_id\n",
    "FROM page_likes"
   ]
  },
  {
   "cell_type": "code",
   "execution_count": null,
   "metadata": {},
   "outputs": [],
   "source": [
    "'''\n",
    "Assume you're given a table on Walmart user transactions. Based on their most recent transaction date, write a query that retrieve the users along with the number of products they bought.\n",
    "\n",
    "Output the user's most recent transaction date, user ID, and the number of products, sorted in chronological order by the transaction date.\n",
    "\n",
    "'''\n",
    "\n",
    "WITH latest_transactions AS (\n",
    "  SELECT \n",
    "    transaction_date, \n",
    "    user_id, \n",
    "    product_id, \n",
    "    RANK() OVER (\n",
    "      PARTITION BY user_id ORDER BY transaction_date DESC) AS transaction_rank \n",
    "  FROM user_transactions) \n",
    "  \n",
    "SELECT \n",
    "  transaction_date, \n",
    "  user_id,\n",
    "  COUNT(product_id) AS purchase_count\n",
    "FROM latest_transactions\n",
    "WHERE transaction_rank = 1 \n",
    "GROUP BY transaction_date, user_id\n",
    "ORDER BY transaction_date"
   ]
  },
  {
   "cell_type": "code",
   "execution_count": null,
   "metadata": {},
   "outputs": [
    {
     "ename": "SyntaxError",
     "evalue": "invalid syntax (3013744970.py, line 1)",
     "output_type": "error",
     "traceback": [
      "\u001b[1;36m  Cell \u001b[1;32mIn[2], line 1\u001b[1;36m\u001b[0m\n\u001b[1;33m    WITH employee_queries AS (\u001b[0m\n\u001b[1;37m         ^\u001b[0m\n\u001b[1;31mSyntaxError\u001b[0m\u001b[1;31m:\u001b[0m invalid syntax\n"
     ]
    }
   ],
   "source": [
    "'''\n",
    "IBM is analyzing how their employees are utilizing the Db2 database by tracking the SQL queries executed by their employees. The objective is to generate data to populate a histogram that shows the number of unique queries run by employees during the third quarter of 2023 (July to September). Additionally, it should count the number of employees who did not run any queries during this period.\n",
    "\n",
    "Display the number of unique queries as histogram categories, along with the count of employees who executed that number of unique queries.\n",
    "'''\n",
    "\n",
    "WITH employee_queries AS (\n",
    "  SELECT \n",
    "    e.employee_id,\n",
    "    COALESCE(COUNT(DISTINCT q.query_id), 0) AS unique_queries\n",
    "  FROM employees AS e\n",
    "  LEFT JOIN queries AS q\n",
    "    ON e.employee_id = q.employee_id\n",
    "      AND q.query_starttime >= '2023-07-01T00:00:00Z'\n",
    "      AND q.query_starttime < '2023-10-01T00:00:00Z'\n",
    "  GROUP BY e.employee_id\n",
    ")\n",
    "\n",
    "SELECT\n",
    "  unique_queries,\n",
    "  COUNT(employee_id) AS employee_count\n",
    "FROM employee_queries\n",
    "GROUP BY unique_queries\n",
    "ORDER BY unique_queries;"
   ]
  },
  {
   "cell_type": "code",
   "execution_count": null,
   "metadata": {},
   "outputs": [],
   "source": [
    "WITH latest_transactions_cte AS (\n",
    "  SELECT \n",
    "    transaction_date, \n",
    "    user_id, \n",
    "    product_id, \n",
    "    RANK() OVER (\n",
    "      PARTITION BY user_id \n",
    "      ORDER BY transaction_date DESC) AS transaction_rank \n",
    "  FROM user_transactions) \n",
    "  \n",
    "SELECT \n",
    "  transaction_date, \n",
    "  user_id,\n",
    "  COUNT(product_id) AS purchase_count\n",
    "FROM latest_transactions_cte\n",
    "WHERE transaction_rank = 1 \n",
    "GROUP BY transaction_date, user_id\n",
    "ORDER BY transaction_date;"
   ]
  },
  {
   "cell_type": "code",
   "execution_count": null,
   "metadata": {},
   "outputs": [],
   "source": [
    "WITH yearly_spend_cte AS (\n",
    "  SELECT \n",
    "    EXTRACT(YEAR FROM transaction_date) AS year,\n",
    "    product_id,\n",
    "    spend AS curr_year_spend,\n",
    "    LAG(spend) OVER (\n",
    "      PARTITION BY product_id \n",
    "      ORDER BY \n",
    "        product_id, \n",
    "        EXTRACT(YEAR FROM transaction_date)) AS prev_year_spend \n",
    "  FROM user_transactions\n",
    ")\n",
    "\n",
    "SELECT \n",
    "  year,\n",
    "  product_id, \n",
    "  curr_year_spend, \n",
    "  prev_year_spend, \n",
    "  ROUND(100 * \n",
    "    (curr_year_spend - prev_year_spend)\n",
    "    / prev_year_spend\n",
    "  , 2) AS yoy_rate \n",
    "FROM yearly_spend_cte;"
   ]
  },
  {
   "cell_type": "markdown",
   "metadata": {},
   "source": [
    "### Python Questions"
   ]
  },
  {
   "cell_type": "code",
   "execution_count": 4,
   "metadata": {},
   "outputs": [],
   "source": [
    "'''\n",
    "Given two n x n binary matrices mat and target, return true if it is possible to make mat equal to target by rotating mat in 90-degree increments, or false otherwise.\n",
    "'''\n",
    "\n",
    "def find_rotation(mat, target):\n",
    "    \n",
    "    def rotate(matrix):\n",
    "        # Step 1: Transpose the matrix (swap rows with columns)\n",
    "        for i in range(len(matrix)):\n",
    "            for j in range(i, len(matrix)):\n",
    "                matrix[i][j], matrix[j][i] = matrix[j][i], matrix[i][j]\n",
    "\n",
    "        # Step 2: Reverse each row\n",
    "        for i in range(len(matrix)):\n",
    "            matrix[i] = matrix[i][::-1]\n",
    "        \n",
    "        return matrix\n",
    "\n",
    "    to_rotate = mat\n",
    "    for _ in range(4):\n",
    "        rotated = rotate(to_rotate)\n",
    "        if rotated == target:\n",
    "            return True\n",
    "        to__rotate = rotated\n",
    "    \n",
    "    return False"
   ]
  },
  {
   "cell_type": "code",
   "execution_count": null,
   "metadata": {},
   "outputs": [],
   "source": [
    "'''\n",
    "Write a function fizz_buzz_sum to find the sum of all multiples of 3 or 5 below a target value.\n",
    "\n",
    "For example, if the target value was 10, the multiples of 3 or 5 below 10 are 3, 5, 6, and 9.\n",
    "\n",
    "Because 3+5+6+9=233+5+6+9=23, our function would return 23.\n",
    "'''\n",
    "def fizz_buzz_sum(target):\n",
    "  sum = 0\n",
    "  for i in range(target):\n",
    "    if (i % 3 == 0) or (i % 5 == 0):\n",
    "      sum += i\n",
    "  return sum"
   ]
  },
  {
   "cell_type": "code",
   "execution_count": 3,
   "metadata": {},
   "outputs": [],
   "source": [
    "'''\n",
    "Given an integer n, generate all simplified fractions between 0 and 1 (exclusive) where the denominator is less than or equal to n. A fraction is simplified if the numerator and denominator have no common divisors other than 1.\n",
    "\n",
    "Return a sorted list of fractions, where each fraction is represented as [numerator, denominator].\n",
    "\n",
    "For example:\n",
    "\n",
    "    If n=3n=3, return [[1, 2], [1, 3], [2, 3]]\n",
    "    If n=4n=4, return [[1, 2], [1, 3], [1, 4], [2, 3], [3, 4]]\n",
    "    If n=5n=5, return [[1, 2], [1, 3], [1, 4], [1, 5], [2, 3], [2, 5], [3, 4], [3, 5], [4, 5]]\n",
    "'''\n",
    "import math\n",
    "\n",
    "def generate_fractions(n):\n",
    "    result = []  \n",
    "\t # Numerators from 1 up to n\n",
    "    for numerator in range(1, n): \n",
    "    \t # Denominators > numerator\n",
    "        for denominator in range(numerator + 1, n + 1): \n",
    "            '''\n",
    "            Only add if the fraction is already in \n",
    "            simplest form (GCD is 1)\n",
    "            '''\n",
    "            if math.gcd(numerator, denominator) == 1:\n",
    "            \t# Add to result\n",
    "                result.append([numerator, denominator])  \n",
    "\n",
    "    return result\n"
   ]
  },
  {
   "cell_type": "code",
   "execution_count": null,
   "metadata": {},
   "outputs": [],
   "source": [
    "\n",
    "#Given two vectors, represented as lists X and Y, return the Pearson Correlation Coefficient.\n",
    "\n",
    "import math\n",
    "\n",
    "def mean(x):\n",
    "\treturn sum(x)/len(x)\n",
    "\t\n",
    "def sd(x):\n",
    "  m = mean(x)\n",
    "  ss = sum((i-m) ** 2 for i in x)\n",
    "  return math.sqrt(ss / len(x))\n",
    "\n",
    "def corr(x, y):\n",
    "  x_m = mean(x)\n",
    "  y_m = mean(y)\n",
    "  xy_d = [] \n",
    "  for i in range(len(x)):\n",
    "    x_d = x[i] - x_m\n",
    "    y_d = y[i] - y_m\n",
    "    xy_d.append(x_d * y_d) \n",
    "  return mean(xy_d) / (sd(x) * sd(y)) "
   ]
  },
  {
   "cell_type": "code",
   "execution_count": null,
   "metadata": {},
   "outputs": [],
   "source": [
    "'''\n",
    "You're given an array nums of n integers and an integer k.\n",
    "\n",
    "The k-radius average for a subarray of nums centered at some index i is the average of all elements from indices i - k to i + k (inclusive). If there aren’t enough elements before or after index i to cover this radius, the k-radius average is -1.\n",
    "\n",
    "Build and return an array averages of length n, where averages[i] contains the k-radius average for the subarray centered at index i.\n",
    "\n",
    "Return your result rounded to 2 decimal places.\n",
    "'''\n",
    "\n",
    "\n",
    "\n",
    "def k_radius_avg(nums, k):\n",
    "    # Initialize averages with -1\n",
    "    averages = [-1] * len(nums)\n",
    "    # Total elements in a k-radius subarray\n",
    "    k_radius_size = 2 * k + 1\n",
    "\n",
    "    # Construct prefix sum array\n",
    "    prefix = [0] * (len(nums) + 1)  \n",
    "    for i in range(len(nums)):\n",
    "        prefix[i + 1] = prefix[i] + nums[i]\n",
    "\n",
    "    # Calculate averages for all valid centers\n",
    "    for j in range(k, len(nums) - k):\n",
    "        left_index = j - k\n",
    "        right_index = j + k + 1\n",
    "        averages[j] = round((prefix[right_index] - prefix[left_index]) / k_radius_size, 2)\n",
    "\n",
    "    return averages"
   ]
  },
  {
   "cell_type": "code",
   "execution_count": null,
   "metadata": {},
   "outputs": [],
   "source": [
    "def convertToBase13(num):\n",
    "    base13_digits = \"0123456789ABC\"\n",
    "    \n",
    "    def convertPositiveToBase13(positive_number):\n",
    "        if positive_number < 13:\n",
    "            return base13_digits[positive_number]  # Return single digit\n",
    "        else:\n",
    "            return convertPositiveToBase13(positive_number // 13) + base13_digits[positive_number % 13]\n",
    "    \n",
    "    if num < 0:\n",
    "        return \"-\" + convertPositiveToBase13(abs(num))\n",
    "    else:\n",
    "        return convertPositiveToBase13(num)"
   ]
  },
  {
   "cell_type": "code",
   "execution_count": null,
   "metadata": {},
   "outputs": [],
   "source": [
    "def factorial(n):\n",
    "  if n == 0:\n",
    "      return 1\n",
    "  else:\n",
    "      return n * factorial(n - 1)"
   ]
  },
  {
   "cell_type": "markdown",
   "metadata": {},
   "source": []
  }
 ],
 "metadata": {
  "kernelspec": {
   "display_name": "Python 3",
   "language": "python",
   "name": "python3"
  },
  "language_info": {
   "codemirror_mode": {
    "name": "ipython",
    "version": 3
   },
   "file_extension": ".py",
   "mimetype": "text/x-python",
   "name": "python",
   "nbconvert_exporter": "python",
   "pygments_lexer": "ipython3",
   "version": "3.12.9"
  }
 },
 "nbformat": 4,
 "nbformat_minor": 2
}
